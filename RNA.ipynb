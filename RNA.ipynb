{
 "cells": [
  {
   "cell_type": "code",
   "execution_count": 2,
   "id": "c858988a",
   "metadata": {},
   "outputs": [],
   "source": [
    "import numpy as np"
   ]
  },
  {
   "cell_type": "code",
   "execution_count": 3,
   "id": "f85c5453",
   "metadata": {},
   "outputs": [],
   "source": [
    "def sigmoid(x):\n",
    "    return 1/(1 + np.exp(-x))"
   ]
  },
  {
   "cell_type": "code",
   "execution_count": 4,
   "id": "619dfc50",
   "metadata": {},
   "outputs": [],
   "source": [
    "def predict(x):\n",
    "\n",
    "    #Matrices de pesos\n",
    "    w1 = np.array([[-0.2932566, -0.4804684], [-1.8816855 ,-3.1177343], [ 1.2628435 ,-1.2791224], [4.7664964, 11.8576561]])\n",
    "    w2 = np.array([ [80.184017 , 0.25175853 ,-85.923633], [-42.105573, -0.00107094 , 48.397859]])\n",
    "    w3 = np.array([[-1.5927926 , 0.1915635 , 1.3979081], [0.7165221 , 0.8109645 ,-1.4471897], [-1.5745136 , 1.2148974 , 0.3582355]])\n",
    "   \n",
    "    #Bias por cada matriz de peso\n",
    "    b1 = np.array([-7.2403175 , 2.7483241])\n",
    "    b2 = np.array([-1.270335, -1.79925251 , -1.805914])\n",
    "    b3 = np.array([1.4694800, -0.3311140, -0.1487219])\n",
    "\n",
    "    #Capas de la red neuronal\n",
    "    layer1 = sigmoid(np.dot(x, w1) + b1)\n",
    "    layer2 = sigmoid(np.dot(layer1, w2) + b2)\n",
    "\n",
    "    #Capada de salida\n",
    "    output_layer = sigmoid(np.dot(layer2, w3) + b3)\n",
    "\n",
    "    # retorna la capa de salid\n",
    "    return output_layer"
   ]
  },
  {
   "cell_type": "code",
   "execution_count": 5,
   "id": "e0fdd240",
   "metadata": {},
   "outputs": [],
   "source": [
    "def clasificar_array(arr):\n",
    "    # Obtener el índice de la columna con el valor máximo\n",
    "\n",
    "    max_index = np.argmax(arr)\n",
    "\n",
    "    # Asignar el clasificador correspondiente\n",
    "    if max_index == 0:\n",
    "        clasificador = \"setosa\"\n",
    "    elif max_index == 1:\n",
    "        clasificador = \"versicolor\"\n",
    "    else:\n",
    "        clasificador = \"virginica\"\n",
    "\n",
    "    return clasificador"
   ]
  },
  {
   "cell_type": "code",
   "execution_count": 6,
   "id": "00012750",
   "metadata": {},
   "outputs": [
    {
     "name": "stdout",
     "output_type": "stream",
     "text": [
      "--------------------------------------------------\n",
      "Matriz de prediccion:\n",
      "[0.73104068 0.49941681 0.50063579]\n",
      "Clasificacion:\n",
      "setosa\n",
      "--------------------------------------------------\n",
      "--------------------------------------------------\n",
      "Matriz de prediccion:\n",
      "[0.73111382 0.49967084 0.50028945]\n",
      "Clasificacion:\n",
      "setosa\n",
      "--------------------------------------------------\n",
      "--------------------------------------------------\n",
      "Matriz de prediccion:\n",
      "[0.73108544 0.49956949 0.50042662]\n",
      "Clasificacion:\n",
      "setosa\n",
      "--------------------------------------------------\n",
      "--------------------------------------------------\n",
      "Matriz de prediccion:\n",
      "[0.73108893 0.49958504 0.50040667]\n",
      "Clasificacion:\n",
      "setosa\n",
      "--------------------------------------------------\n",
      "--------------------------------------------------\n",
      "Matriz de prediccion:\n",
      "[0.73103676 0.4994034  0.50065415]\n",
      "Clasificacion:\n",
      "setosa\n",
      "--------------------------------------------------\n"
     ]
    }
   ],
   "source": [
    "# Ejemplo de uso\n",
    "iris = np.loadtxt('https://archive.ics.uci.edu/ml/machine-learning-databases/iris/iris.data', delimiter=',', usecols=[0,1,2,3])\n",
    "x = iris[:5, :]\n",
    "\n",
    "for i in x:\n",
    "    print(\"--------------------------------------------------\")\n",
    "    print(\"Matriz de prediccion:\")\n",
    "    result = predict(i)\n",
    "    print(result)\n",
    "    print(\"Clasificacion:\")\n",
    "    print(clasificar_array(result))\n",
    "    print(\"--------------------------------------------------\")"
   ]
  },
  {
   "cell_type": "code",
   "execution_count": null,
   "id": "bc1c94fc",
   "metadata": {},
   "outputs": [],
   "source": []
  }
 ],
 "metadata": {
  "kernelspec": {
   "display_name": "Python 3 (ipykernel)",
   "language": "python",
   "name": "python3"
  },
  "language_info": {
   "codemirror_mode": {
    "name": "ipython",
    "version": 3
   },
   "file_extension": ".py",
   "mimetype": "text/x-python",
   "name": "python",
   "nbconvert_exporter": "python",
   "pygments_lexer": "ipython3",
   "version": "3.9.13"
  }
 },
 "nbformat": 4,
 "nbformat_minor": 5
}
